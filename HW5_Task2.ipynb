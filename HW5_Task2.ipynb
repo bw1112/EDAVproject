{
  "nbformat": 4,
  "nbformat_minor": 0,
  "metadata": {
    "colab": {
      "name": "HW5_Task2.ipynb",
      "version": "0.3.2",
      "provenance": [],
      "collapsed_sections": [],
      "include_colab_link": true
    },
    "kernelspec": {
      "name": "python3",
      "display_name": "Python 3"
    },
    "accelerator": "GPU"
  },
  "cells": [
    {
      "cell_type": "markdown",
      "metadata": {
        "id": "view-in-github",
        "colab_type": "text"
      },
      "source": [
        "<a href=\"https://colab.research.google.com/github/bw1112/EDAVproject/blob/master/HW5_Task2.ipynb\" target=\"_parent\"><img src=\"https://colab.research.google.com/assets/colab-badge.svg\" alt=\"Open In Colab\"/></a>"
      ]
    },
    {
      "metadata": {
        "id": "8gZYzmee_S5t",
        "colab_type": "text"
      },
      "cell_type": "markdown",
      "source": [
        "## Task 2 [40 Points]\n",
        "Train a multilayer perceptron (fully connected) on the Fashion MNIST dataset using the traditional train/test split as given by fashion_mnist.load_data in keras. Use a separate 10000 samples (from the training set) for model selection and to compute learning curves (accuracy vs epochs, not vs n_samples). Compare a “vanilla” model with a model using drop-out (potentially a bigger model), and to a model using batch normalization and residual connections (but not dropout). Visualize learning curves for all models.\n"
      ]
    },
    {
      "metadata": {
        "id": "GXBBJJU4CDN8",
        "colab_type": "code",
        "colab": {}
      },
      "cell_type": "code",
      "source": [
        "import numpy as np\n",
        "import pandas as pd\n",
        "import keras"
      ],
      "execution_count": 0,
      "outputs": []
    },
    {
      "metadata": {
        "id": "5APBivcHfBY-",
        "colab_type": "code",
        "colab": {
          "base_uri": "https://localhost:8080/",
          "height": 34
        },
        "outputId": "039e4402-c659-420f-a154-5bc1b70e5646"
      },
      "cell_type": "code",
      "source": [
        "import tensorflow as tf\n",
        "sess = tf.Session(config=tf.ConfigProto(log_device_placement=True))\n",
        "sess"
      ],
      "execution_count": 60,
      "outputs": [
        {
          "output_type": "execute_result",
          "data": {
            "text/plain": [
              "<tensorflow.python.client.session.Session at 0x7f2c3c29ae10>"
            ]
          },
          "metadata": {
            "tags": []
          },
          "execution_count": 60
        }
      ]
    },
    {
      "metadata": {
        "id": "FWf_m_Mv7GF7",
        "colab_type": "text"
      },
      "cell_type": "markdown",
      "source": [
        "## Loading Data"
      ]
    },
    {
      "metadata": {
        "id": "zaDBncJrBaH1",
        "colab_type": "code",
        "colab": {}
      },
      "cell_type": "code",
      "source": [
        "from keras.datasets import fashion_mnist\n",
        "\n",
        "(x_train, y_train), (x_test, y_test) = fashion_mnist.load_data()"
      ],
      "execution_count": 0,
      "outputs": []
    },
    {
      "metadata": {
        "id": "1QS5oG19Ba7z",
        "colab_type": "text"
      },
      "cell_type": "markdown",
      "source": [
        "## Preparing Data"
      ]
    },
    {
      "metadata": {
        "id": "fZEpNFzZD1uR",
        "colab_type": "code",
        "colab": {}
      },
      "cell_type": "code",
      "source": [
        "# subset a separated 10,000 sample from training set\n",
        "\n",
        "X_train_sub = x_train[:10000]\n",
        "y_train_sub = y_train[:10000]"
      ],
      "execution_count": 0,
      "outputs": []
    },
    {
      "metadata": {
        "id": "gkp7cprawkfB",
        "colab_type": "code",
        "colab": {
          "base_uri": "https://localhost:8080/",
          "height": 51
        },
        "outputId": "4ed4c84d-fa36-4bd7-c856-372b3293b277"
      },
      "cell_type": "code",
      "source": [
        "X_train_image = X_train_sub.reshape(-1, 784)\n",
        "X_train_image = X_train_image.astype('float32')\n",
        "X_train_image /= 255\n",
        "\n",
        "y_train_image = keras.utils.to_categorical(y_train_sub, num_classes=10)\n",
        "\n",
        "print(f\"X_train_image size: {X_train_image.shape}\")\n",
        "print(f\"y_train_image size: {y_train_image.shape}\")"
      ],
      "execution_count": 65,
      "outputs": [
        {
          "output_type": "stream",
          "text": [
            "X_train_image size: (10000, 784)\n",
            "y_train_image size: (10000, 10)\n"
          ],
          "name": "stdout"
        }
      ]
    },
    {
      "metadata": {
        "id": "V586WTlF-Soi",
        "colab_type": "text"
      },
      "cell_type": "markdown",
      "source": [
        "## A Vanilla Model"
      ]
    },
    {
      "metadata": {
        "id": "j_ZQ7iD_eAfS",
        "colab_type": "code",
        "colab": {}
      },
      "cell_type": "code",
      "source": [
        "from keras.models import Sequential\n",
        "from keras.layers import Dense, Activation\n",
        "\n",
        "model_vanilla = Sequential([\n",
        "    Dense(32, input_shape=(784,)),\n",
        "    Activation('relu'),\n",
        "    Dense(32),\n",
        "    Activation('relu'),\n",
        "    Dense(10),\n",
        "    Activation('softmax')])\n",
        "\n",
        "model_vanilla.compile(\"adam\", \"categorical_crossentropy\", metrics=['accuracy'])"
      ],
      "execution_count": 0,
      "outputs": []
    },
    {
      "metadata": {
        "id": "sUoFhrTTxW2k",
        "colab_type": "code",
        "colab": {}
      },
      "cell_type": "code",
      "source": [
        "history_callback_vanilla = model_vanilla.fit(X_train_image, \n",
        "                                             y_train_image, \n",
        "                                             batch_size=128, \n",
        "                                             epochs=100, \n",
        "                                             verbose=0, \n",
        "                                             validation_split=0.1)"
      ],
      "execution_count": 0,
      "outputs": []
    },
    {
      "metadata": {
        "id": "rP4x0S74xASF",
        "colab_type": "text"
      },
      "cell_type": "markdown",
      "source": [
        "# A Dropout model"
      ]
    },
    {
      "metadata": {
        "id": "X0o8i8H8xDFh",
        "colab_type": "code",
        "colab": {
          "base_uri": "https://localhost:8080/",
          "height": 118
        },
        "outputId": "7e168b08-c4ae-46b3-8424-cb3d05b1c7a1"
      },
      "cell_type": "code",
      "source": [
        "from keras.layers import Dropout\n",
        "\n",
        "model_dropout = Sequential([\n",
        "    Dense(1024, input_shape=(784,), activation='relu'),\n",
        "    Dropout(.5),\n",
        "    Dense(1024, activation='relu'),\n",
        "    Dropout(.5),\n",
        "    Dense(10, activation='softmax'),\n",
        "])\n",
        "\n",
        "# model_dropout = Sequential([\n",
        "#         Dense(32, input_shape(784,)),\n",
        "#         Activation('relu'),\n",
        "#         Dropout(0.3),\n",
        "#         Dense(32),\n",
        "#         Activation('relu'),\n",
        "#         Dropout(0.3),     \n",
        "#         Dense(3),\n",
        "#         Activation('softmax')])\n",
        "\n",
        "model_dropout.compile(\"adam\", \"categorical_crossentropy\", metrics=['accuracy'])"
      ],
      "execution_count": 75,
      "outputs": [
        {
          "output_type": "stream",
          "text": [
            "WARNING:tensorflow:From /usr/local/lib/python3.6/dist-packages/keras/backend/tensorflow_backend.py:3445: calling dropout (from tensorflow.python.ops.nn_ops) with keep_prob is deprecated and will be removed in a future version.\n",
            "Instructions for updating:\n",
            "Please use `rate` instead of `keep_prob`. Rate should be set to `rate = 1 - keep_prob`.\n"
          ],
          "name": "stdout"
        }
      ]
    },
    {
      "metadata": {
        "id": "i5Gp-59GecqU",
        "colab_type": "code",
        "colab": {}
      },
      "cell_type": "code",
      "source": [
        "history_callback_dropout = model_dropout.fit(X_train_image, y_train_image,\n",
        "                                             batch_size=128, \n",
        "                                             epochs=100, \n",
        "                                             verbose=0, \n",
        "                                             validation_split=.1)"
      ],
      "execution_count": 0,
      "outputs": []
    },
    {
      "metadata": {
        "id": "VyQV0Ejiy4Y5",
        "colab_type": "text"
      },
      "cell_type": "markdown",
      "source": [
        "## A Bach Normalization and Residual Connection model"
      ]
    },
    {
      "metadata": {
        "id": "MPdJIr-gz6sf",
        "colab_type": "code",
        "colab": {}
      },
      "cell_type": "code",
      "source": [
        "from keras.layers import BatchNormalization\n",
        "from keras.layers import Input, Dense\n",
        "from keras.models import Model\n",
        "\n",
        "\n",
        "inputs = Input(shape=(784,))\n",
        "\n",
        "x = Dense(64, activation='relu')(inputs)\n",
        "x = BatchNormalization()(x)\n",
        "x = Dense(64, activation='relu')(x)\n",
        "x = BatchNormalization()(x)\n",
        "predictions = Dense(10, activation='softmax')(x)\n",
        "\n",
        "\n",
        "model_bnrc = Model(inputs=inputs, outputs=predictions)\n",
        "\n",
        "model_bnrc.compile(optimizer='adam',\n",
        "              loss='categorical_crossentropy',\n",
        "              metrics=['accuracy'])"
      ],
      "execution_count": 0,
      "outputs": []
    },
    {
      "metadata": {
        "id": "O9ubie1_4IKb",
        "colab_type": "code",
        "colab": {}
      },
      "cell_type": "code",
      "source": [
        "history_callback_bnrc = model_bnrc.fit(X_train_image, y_train_image,\n",
        "                                             batch_size=128, \n",
        "                                             epochs=100, \n",
        "                                             verbose=0, \n",
        "                                             validation_split=.1)"
      ],
      "execution_count": 0,
      "outputs": []
    },
    {
      "metadata": {
        "id": "LLwukTciz7w8",
        "colab_type": "text"
      },
      "cell_type": "markdown",
      "source": [
        "## Model Comparison"
      ]
    },
    {
      "metadata": {
        "id": "wF4pr7Hb0ec7",
        "colab_type": "code",
        "colab": {}
      },
      "cell_type": "code",
      "source": [
        "res_vanilla = pd.DataFrame(history_callback_vanilla.history)['acc']\n",
        "res_dropout = pd.DataFrame(history_callback_dropout.history)['acc']\n",
        "res_bnrc = pd.DataFrame(history_callback_bnrc.history)['acc']"
      ],
      "execution_count": 0,
      "outputs": []
    },
    {
      "metadata": {
        "id": "1n6AViSn2nl7",
        "colab_type": "code",
        "colab": {}
      },
      "cell_type": "code",
      "source": [
        "df = pd.DataFrame({'vanilla': res_vanilla, \n",
        "                   'dropout': res_dropout,\n",
        "                   'batch_norm_res_con': res_bnrc})"
      ],
      "execution_count": 0,
      "outputs": []
    },
    {
      "metadata": {
        "id": "bKe3HJEtf2gJ",
        "colab_type": "code",
        "colab": {
          "base_uri": "https://localhost:8080/",
          "height": 286
        },
        "outputId": "80206df4-e629-4e7d-ab41-e20319f66284"
      },
      "cell_type": "code",
      "source": [
        "df.plot()"
      ],
      "execution_count": 98,
      "outputs": [
        {
          "output_type": "execute_result",
          "data": {
            "text/plain": [
              "<matplotlib.axes._subplots.AxesSubplot at 0x7f2c3c25ee10>"
            ]
          },
          "metadata": {
            "tags": []
          },
          "execution_count": 98
        },
        {
          "output_type": "display_data",
          "data": {
            "image/png": "[encoded data removed]",
            "text/plain": [
              "<Figure size 432x288 with 1 Axes>"
            ]
          },
          "metadata": {
            "tags": []
          }
        }
      ]
    }
  ]
}